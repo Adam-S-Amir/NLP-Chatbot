{
 "cells": [
  {
   "cell_type": "code",
   "execution_count": 25,
   "id": "22baac2b-c226-4dc6-9704-e62eccf79110",
   "metadata": {},
   "outputs": [
    {
     "name": "stdout",
     "output_type": "stream",
     "text": [
      "Processing data...\n",
      "Data processed.\n",
      "Waiting for user input...\n"
     ]
    },
    {
     "name": "stdin",
     "output_type": "stream",
     "text": [
      "user:>  hello\n"
     ]
    },
    {
     "name": "stdout",
     "output_type": "stream",
     "text": [
      "VEGA:> Fuck you.\n"
     ]
    },
    {
     "name": "stdin",
     "output_type": "stream",
     "text": [
      "user:>  quit\n"
     ]
    },
    {
     "name": "stdout",
     "output_type": "stream",
     "text": [
      "VEGA:> Goodbye!\n"
     ]
    }
   ],
   "source": [
    "import pandas as pd\n",
    "import nltk\n",
    "from sklearn.feature_extraction.text import TfidfVectorizer\n",
    "from sklearn.metrics.pairwise import cosine_similarity\n",
    "import numpy as np\n",
    "import ast  # For safely converting string lists to Python lists\n",
    "\n",
    "# Load the dataset\n",
    "print(\"Processing data...\")\n",
    "data = pd.read_csv(\"./data/processed/cornell_movie_dialogs_lines.csv\")\n",
    "\n",
    "# Load the conversation structure to get replies\n",
    "conv_data = pd.read_csv(\"./data/processed/cornell_movie_dialogs_conversations.csv\")\n",
    "\n",
    "# Create a dictionary mapping line IDs to actual text\n",
    "lines_dict = dict(zip(data[\"lineID\"], data[\"text\"]))\n",
    "\n",
    "# Create a list of (input, response) pairs from conversations\n",
    "conversations = []\n",
    "for conv in conv_data[\"utteranceIDs\"]:  \n",
    "    conv = ast.literal_eval(conv)  # Convert string list to actual Python list\n",
    "    for i in range(len(conv) - 1):\n",
    "        if conv[i] in lines_dict and conv[i + 1] in lines_dict:\n",
    "            conversations.append((lines_dict[conv[i]], lines_dict[conv[i + 1]]))\n",
    "\n",
    "# Separate inputs and responses\n",
    "inputs, responses = zip(*conversations)\n",
    "\n",
    "# Remove any None or NaN values from inputs and responses\n",
    "inputs = [text for text in inputs if isinstance(text, str) and text.strip() != '']\n",
    "responses = [text for text in responses if isinstance(text, str) and text.strip() != '']\n",
    "\n",
    "print(\"Data processed.\")\n",
    "\n",
    "# Vectorize only the input lines\n",
    "vectorizer = TfidfVectorizer()\n",
    "tfidf_matrix = vectorizer.fit_transform(inputs)\n",
    "\n",
    "# Chatbot function\n",
    "def get_response(user_input):\n",
    "    # Vectorize the user input\n",
    "    user_tfidf = vectorizer.transform([user_input])\n",
    "    \n",
    "    # Compute cosine similarity\n",
    "    similarities = cosine_similarity(user_tfidf, tfidf_matrix)  \n",
    "    \n",
    "    # Find the most similar input line\n",
    "    best_match_index = np.argmax(similarities)\n",
    "    \n",
    "    # Return the actual response from the dataset\n",
    "    return responses[best_match_index]\n",
    "\n",
    "# Start chat loop\n",
    "print(\"Waiting for user input...\")\n",
    "while True:\n",
    "    user_input = input(\"user:> \")  # Get user input\n",
    "    if user_input.lower() in [\"exit\", \"quit\", \"bye\"]:  # Exit condition\n",
    "        print(\"VEGA:> Goodbye!\")\n",
    "        break\n",
    "    response = get_response(user_input)  # Get best response\n",
    "    print(f\"VEGA:> {response}\")  # Print bot's response\n"
   ]
  },
  {
   "cell_type": "markdown",
   "id": "dc6cc643",
   "metadata": {},
   "source": []
  },
  {
   "cell_type": "code",
   "execution_count": null,
   "id": "0959966d-5ce6-45c9-8772-888102d8097a",
   "metadata": {},
   "outputs": [],
   "source": []
  },
  {
   "cell_type": "code",
   "execution_count": null,
   "id": "01fcb19f-fde4-495e-8052-3b928331abf5",
   "metadata": {},
   "outputs": [],
   "source": []
  }
 ],
 "metadata": {
  "kernelspec": {
   "display_name": "Python 3 (ipykernel)",
   "language": "python",
   "name": "python3"
  },
  "language_info": {
   "codemirror_mode": {
    "name": "ipython",
    "version": 3
   },
   "file_extension": ".py",
   "mimetype": "text/x-python",
   "name": "python",
   "nbconvert_exporter": "python",
   "pygments_lexer": "ipython3",
   "version": "3.12.9"
  }
 },
 "nbformat": 4,
 "nbformat_minor": 5
}
